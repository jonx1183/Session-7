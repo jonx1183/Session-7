{
 "cells": [
  {
   "cell_type": "code",
   "execution_count": 24,
   "metadata": {},
   "outputs": [],
   "source": [
    "class Costumer:\n",
    "    def __init__(self, costId, fName, lName, email):\n",
    "        self.costId = costId\n",
    "        self.fName = fName\n",
    "        self.lName = lName\n",
    "        self.email = email\n",
    "    \n",
    "    def __str__(self):\n",
    "        return f\"Costumer ID: {self.costId}, Name: {self.fName} {self.lName}, Email: {self.email}\"\n",
    "         \n"
   ]
  },
  {
   "cell_type": "code",
   "execution_count": 25,
   "metadata": {},
   "outputs": [],
   "source": [
    "class Account:\n",
    "    def __init__(self, id, holder, balance=0):\n",
    "        self.id = id\n",
    "        self.holder = holder\n",
    "        self.balance = balance\n",
    "    def deposit(self, amount):\n",
    "        if amount > 0:\n",
    "            self.balance += amount\n",
    "        else:\n",
    "            print(\"Invalid\")    \n",
    "\n",
    "    def withdraw(self, amount): \n",
    "        if amount > 0 and amount <= self.balance:\n",
    "            self.balance -= amount\n",
    "        else:\n",
    "            print(\"Invalid\")   \n",
    "\n",
    "    def getBalance(self):\n",
    "        return self.balance\n",
    "\n",
    "    def __str__(self):\n",
    "        return f\"Account ID: {self.id}, Holder:{self.holder}, Balance: ${self.balance:.2f}\"         "
   ]
  },
  {
   "cell_type": "code",
   "execution_count": 26,
   "metadata": {},
   "outputs": [],
   "source": [
    "class Bank:\n",
    "    def __init__(self, bankName):\n",
    "        self.bankName = bankName\n",
    "        self.accounts = {}\n",
    "\n",
    "    def addAccount(self, account):\n",
    "        if account.id not in self.accounts:\n",
    "            self.accounts[account.id] = account\n",
    "            print(f\"Account {account.id} added to {self.bankName}\")\n",
    "        else:\n",
    "            print(f\"Account {account.id} already exist in {self.bankName}\")\n",
    "\n",
    "    def getAccount(self, id):\n",
    "        if id in self.accounts:\n",
    "            return self.accounts[id]      \n",
    "        else:\n",
    "            print(f\"Account {id} not found {self.bankName}\")\n",
    "\n",
    "    def __str__(self):\n",
    "        return f\"bank Name: {self.bankName}, Total accounts: {len(self.accounts)}\"        "
   ]
  },
  {
   "cell_type": "code",
   "execution_count": 27,
   "metadata": {},
   "outputs": [],
   "source": [
    "if __name__ == \"--main__\":\n",
    "    c1 = Costumer(1, \"John\", \"Doe\", \"Test@Test\")\n",
    "    c2 = Costumer(2, \"Jane\", \"Doe\", \"Test1@Test\")\n",
    "\n",
    "    a1 = Account(10, c1, 1000)\n",
    "    a2 = Account(11, c2, 20002)\n",
    "\n",
    "    testBank = Bank(\"LegoCityBank\")\n",
    "    testBank.addAccount(a1)\n",
    "    testBank.addAccount(a2)\n",
    "\n",
    "    print(testBank)\n",
    "    print(a1)\n",
    "    print(a2)\n",
    "\n"
   ]
  },
  {
   "cell_type": "markdown",
   "metadata": {},
   "source": []
  }
 ],
 "metadata": {
  "kernelspec": {
   "display_name": "Python 3",
   "language": "python",
   "name": "python3"
  },
  "language_info": {
   "codemirror_mode": {
    "name": "ipython",
    "version": 3
   },
   "file_extension": ".py",
   "mimetype": "text/x-python",
   "name": "python",
   "nbconvert_exporter": "python",
   "pygments_lexer": "ipython3",
   "version": "3.11.4"
  },
  "orig_nbformat": 4
 },
 "nbformat": 4,
 "nbformat_minor": 2
}
